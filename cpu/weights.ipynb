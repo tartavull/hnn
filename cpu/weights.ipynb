{
 "metadata": {
  "name": ""
 },
 "nbformat": 3,
 "nbformat_minor": 0,
 "worksheets": [
  {
   "cells": [
    {
     "cell_type": "code",
     "collapsed": false,
     "input": [
      "import numpy\n",
      "\n",
      "import dataset\n",
      "from nets import *\n",
      "from trainer import *\n",
      "\n",
      "\n",
      "data = dataset.load_naive()\n",
      "\n",
      "input_length = data[0][1].shape[0]\n",
      "\n",
      "#there is only of example for every label in this datast\n",
      "number_of_labels = len(data)\n",
      "\n",
      "# We create an archicture with now hidden layers.\n",
      "architecture =  (( input_length , number_of_labels ))\n",
      "\n",
      "nn = simpleNet( architecture )\n",
      "\n",
      "trainer = Trainer ( nn, data )\n",
      "\n",
      "trainer.train(100000)\n",
      "\n",
      "\n"
     ],
     "language": "python",
     "metadata": {},
     "outputs": [
      {
       "output_type": "stream",
       "stream": "stdout",
       "text": [
        "\r",
        "|----------| 0/100000   0% [elapsed: 00:00 left: ?, ? iters/sec]"
       ]
      },
      {
       "output_type": "stream",
       "stream": "stdout",
       "text": [
        "\r",
        "|----------| 2456/100000   2% [elapsed: 00:00 left: 00:19, 4910.13 iters/sec]"
       ]
      },
      {
       "output_type": "stream",
       "stream": "stdout",
       "text": [
        "\r",
        "|----------| 4857/100000   4% [elapsed: 00:01 left: 00:19, 4855.53 iters/sec]"
       ]
      },
      {
       "output_type": "stream",
       "stream": "stdout",
       "text": [
        "\r",
        "|----------| 7247/100000   7% [elapsed: 00:01 left: 00:19, 4830.24 iters/sec]"
       ]
      },
      {
       "output_type": "stream",
       "stream": "stdout",
       "text": [
        "\r",
        "|----------| 9648/100000   9% [elapsed: 00:02 left: 00:18, 4822.79 iters/sec]"
       ]
      },
      {
       "output_type": "stream",
       "stream": "stdout",
       "text": [
        "\r",
        "|#---------| 12036/100000  12% [elapsed: 00:02 left: 00:18, 4813.42 iters/sec]"
       ]
      },
      {
       "output_type": "stream",
       "stream": "stdout",
       "text": [
        "\r",
        "|#---------| 14292/100000  14% [elapsed: 00:03 left: 00:17, 4762.90 iters/sec]"
       ]
      },
      {
       "output_type": "stream",
       "stream": "stdout",
       "text": [
        "\r",
        "|#---------| 16440/100000  16% [elapsed: 00:03 left: 00:17, 4696.19 iters/sec]"
       ]
      },
      {
       "output_type": "stream",
       "stream": "stdout",
       "text": [
        "\r",
        "|#---------| 18649/100000  18% [elapsed: 00:04 left: 00:17, 4661.26 iters/sec]"
       ]
      },
      {
       "output_type": "stream",
       "stream": "stdout",
       "text": [
        "\r",
        "|##--------| 21037/100000  21% [elapsed: 00:04 left: 00:16, 4673.88 iters/sec]"
       ]
      },
      {
       "output_type": "stream",
       "stream": "stdout",
       "text": [
        "\r",
        "|##--------| 23402/100000  23% [elapsed: 00:05 left: 00:16, 4679.47 iters/sec]"
       ]
      },
      {
       "output_type": "stream",
       "stream": "stdout",
       "text": [
        "\r",
        "|##--------| 25844/100000  25% [elapsed: 00:05 left: 00:15, 4698.03 iters/sec]"
       ]
      },
      {
       "output_type": "stream",
       "stream": "stdout",
       "text": [
        "\r",
        "|##--------| 28253/100000  28% [elapsed: 00:06 left: 00:15, 4707.90 iters/sec]"
       ]
      },
      {
       "output_type": "stream",
       "stream": "stdout",
       "text": [
        "\r",
        "|###-------| 30608/100000  30% [elapsed: 00:06 left: 00:14, 4707.92 iters/sec]"
       ]
      },
      {
       "output_type": "stream",
       "stream": "stdout",
       "text": [
        "\r",
        "|###-------| 32958/100000  32% [elapsed: 00:07 left: 00:14, 4707.22 iters/sec]"
       ]
      },
      {
       "output_type": "stream",
       "stream": "stdout",
       "text": [
        "\r",
        "|###-------| 35358/100000  35% [elapsed: 00:07 left: 00:13, 4713.35 iters/sec]"
       ]
      },
      {
       "output_type": "stream",
       "stream": "stdout",
       "text": [
        "\r",
        "|###-------| 37784/100000  37% [elapsed: 00:08 left: 00:13, 4722.02 iters/sec]"
       ]
      },
      {
       "output_type": "stream",
       "stream": "stdout",
       "text": [
        "\r",
        "|####------| 40238/100000  40% [elapsed: 00:08 left: 00:12, 4732.94 iters/sec]"
       ]
      },
      {
       "output_type": "stream",
       "stream": "stdout",
       "text": [
        "\r",
        "|####------| 42677/100000  42% [elapsed: 00:09 left: 00:12, 4740.96 iters/sec]"
       ]
      },
      {
       "output_type": "stream",
       "stream": "stdout",
       "text": [
        "\r",
        "|####------| 45107/100000  45% [elapsed: 00:09 left: 00:11, 4747.14 iters/sec]"
       ]
      },
      {
       "output_type": "stream",
       "stream": "stdout",
       "text": [
        "\r",
        "|####------| 47577/100000  47% [elapsed: 00:10 left: 00:11, 4756.74 iters/sec]"
       ]
      },
      {
       "output_type": "stream",
       "stream": "stdout",
       "text": [
        "\r",
        "|#####-----| 50043/100000  50% [elapsed: 00:10 left: 00:10, 4765.06 iters/sec]"
       ]
      },
      {
       "output_type": "stream",
       "stream": "stdout",
       "text": [
        "\r",
        "|#####-----| 52524/100000  52% [elapsed: 00:11 left: 00:09, 4773.98 iters/sec]"
       ]
      },
      {
       "output_type": "stream",
       "stream": "stdout",
       "text": [
        "\r",
        "|#####-----| 55030/100000  55% [elapsed: 00:11 left: 00:09, 4784.30 iters/sec]"
       ]
      },
      {
       "output_type": "stream",
       "stream": "stdout",
       "text": [
        "\r",
        "|#####-----| 57515/100000  57% [elapsed: 00:12 left: 00:08, 4791.98 iters/sec]"
       ]
      },
      {
       "output_type": "stream",
       "stream": "stdout",
       "text": [
        "\r",
        "|#####-----| 59992/100000  59% [elapsed: 00:12 left: 00:08, 4798.41 iters/sec]"
       ]
      },
      {
       "output_type": "stream",
       "stream": "stdout",
       "text": [
        "\r",
        "|######----| 62443/100000  62% [elapsed: 00:13 left: 00:07, 4802.30 iters/sec]"
       ]
      },
      {
       "output_type": "stream",
       "stream": "stdout",
       "text": [
        "\r",
        "|######----| 64916/100000  64% [elapsed: 00:13 left: 00:07, 4807.59 iters/sec]"
       ]
      },
      {
       "output_type": "stream",
       "stream": "stdout",
       "text": [
        "\r",
        "|######----| 67374/100000  67% [elapsed: 00:14 left: 00:06, 4811.44 iters/sec]"
       ]
      },
      {
       "output_type": "stream",
       "stream": "stdout",
       "text": [
        "\r",
        "|######----| 69760/100000  69% [elapsed: 00:14 left: 00:06, 4810.08 iters/sec]"
       ]
      },
      {
       "output_type": "stream",
       "stream": "stdout",
       "text": [
        "\r",
        "|#######---| 72236/100000  72% [elapsed: 00:15 left: 00:05, 4814.75 iters/sec]"
       ]
      },
      {
       "output_type": "stream",
       "stream": "stdout",
       "text": [
        "\r",
        "|#######---| 74728/100000  74% [elapsed: 00:15 left: 00:05, 4820.16 iters/sec]"
       ]
      },
      {
       "output_type": "stream",
       "stream": "stdout",
       "text": [
        "\r",
        "|#######---| 77245/100000  77% [elapsed: 00:16 left: 00:04, 4826.80 iters/sec]"
       ]
      },
      {
       "output_type": "stream",
       "stream": "stdout",
       "text": [
        "\r",
        "|#######---| 79748/100000  79% [elapsed: 00:16 left: 00:04, 4832.22 iters/sec]"
       ]
      },
      {
       "output_type": "stream",
       "stream": "stdout",
       "text": [
        "\r",
        "|########--| 82308/100000  82% [elapsed: 00:17 left: 00:03, 4840.63 iters/sec]"
       ]
      },
      {
       "output_type": "stream",
       "stream": "stdout",
       "text": [
        "\r",
        "|########--| 84807/100000  84% [elapsed: 00:17 left: 00:03, 4845.09 iters/sec]"
       ]
      },
      {
       "output_type": "stream",
       "stream": "stdout",
       "text": [
        "\r",
        "|########--| 87301/100000  87% [elapsed: 00:18 left: 00:02, 4849.05 iters/sec]"
       ]
      },
      {
       "output_type": "stream",
       "stream": "stdout",
       "text": [
        "\r",
        "|########--| 89833/100000  89% [elapsed: 00:18 left: 00:02, 4854.85 iters/sec]"
       ]
      },
      {
       "output_type": "stream",
       "stream": "stdout",
       "text": [
        "\r",
        "|#########-| 92323/100000  92% [elapsed: 00:19 left: 00:01, 4858.11 iters/sec]"
       ]
      },
      {
       "output_type": "stream",
       "stream": "stdout",
       "text": [
        "\r",
        "|#########-| 94855/100000  94% [elapsed: 00:19 left: 00:01, 4863.37 iters/sec]"
       ]
      },
      {
       "output_type": "stream",
       "stream": "stdout",
       "text": [
        "\r",
        "|#########-| 97329/100000  97% [elapsed: 00:20 left: 00:00, 4865.44 iters/sec]"
       ]
      },
      {
       "output_type": "stream",
       "stream": "stdout",
       "text": [
        "\r",
        "|#########-| 99825/100000  99% [elapsed: 00:20 left: 00:00, 4868.49 iters/sec]"
       ]
      },
      {
       "output_type": "stream",
       "stream": "stdout",
       "text": [
        "\r",
        "                                                                              "
       ]
      },
      {
       "output_type": "stream",
       "stream": "stdout",
       "text": [
        "\r",
        "label  0  % correct predictions  0.5\n",
        "label  1  % correct predictions  0.3\n",
        "label  2  % correct predictions  0.7\n",
        "label  3  % correct predictions  0.6\n",
        "             precision    recall  f1-score   support\n",
        "\n",
        "          0       0.63      0.62      0.63    100000\n",
        "          1       0.64      0.65      0.64    100000\n",
        "          2       0.64      0.66      0.65    100000\n",
        "          3       0.64      0.62      0.63    100000\n",
        "\n",
        "avg / total       0.64      0.64      0.64    400000\n"
       ]
      },
      {
       "output_type": "stream",
       "stream": "stdout",
       "text": [
        "\n"
       ]
      }
     ],
     "prompt_number": 2
    },
    {
     "cell_type": "code",
     "collapsed": false,
     "input": [
      "nn.layers[1].excitatory "
     ],
     "language": "python",
     "metadata": {},
     "outputs": [
      {
       "metadata": {},
       "output_type": "pyout",
       "prompt_number": 9,
       "text": [
        "array([[  1.44266196e-039,   3.92225933e-059,   6.06458944e-180,\n",
        "          2.83890620e-161],\n",
        "       [  3.40282659e-136,   5.43869880e-039,   1.34688202e-165,\n",
        "          6.01014998e-082],\n",
        "       [  4.84449485e-105,   5.03260883e-086,   9.99958179e+000,\n",
        "          9.31099295e-119],\n",
        "       [  6.95728185e-029,   9.79237055e-142,   2.02064914e-040,\n",
        "          9.98056000e+000]])"
       ]
      }
     ],
     "prompt_number": 9
    }
   ],
   "metadata": {}
  }
 ]
}